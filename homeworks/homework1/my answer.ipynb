{
 "cells": [
  {
   "cell_type": "code",
   "execution_count": 1,
   "metadata": {
    "colab": {},
    "colab_type": "code",
    "id": "EyJt4yZIQAem"
   },
   "outputs": [],
   "source": [
    "# Import dependencies\n",
    "import random\n",
    "import numpy as np\n",
    "import torch\n",
    "import torch.nn as nn\n",
    "\n",
    "# You can find Alfredo's plotting code in plot_lib.py in this directory .\n",
    "# Download it along with this assignment and keep it in the same directory.\n",
    "from plot_lib import *\n",
    "\n",
    "from matplotlib.pyplot import plot, title, axis"
   ]
  },
  {
   "cell_type": "code",
   "execution_count": 2,
   "metadata": {
    "colab": {},
    "colab_type": "code",
    "id": "VTHDQFHFQAeq"
   },
   "outputs": [],
   "source": [
    "# Set up your device\n",
    "cuda = torch.cuda.is_available()\n",
    "device = torch.device(\"cuda:0\" if cuda else \"cpu\")"
   ]
  },
  {
   "cell_type": "code",
   "execution_count": 3,
   "metadata": {
    "colab": {},
    "colab_type": "code",
    "id": "exqe27QXQAet"
   },
   "outputs": [],
   "source": [
    "# Set up random seed to 1008. Do not change the random seed.\n",
    "# Yes, these are all necessary when you run experiments!\n",
    "seed = 1008\n",
    "random.seed(seed)\n",
    "np.random.seed(seed)\n",
    "torch.manual_seed(seed)\n",
    "if cuda:\n",
    "    torch.cuda.manual_seed(seed)\n",
    "    torch.cuda.manual_seed_all(seed)\n",
    "    torch.backends.cudnn.benchmark = False\n",
    "    torch.backends.cudnn.deterministic = True"
   ]
  },
  {
   "cell_type": "markdown",
   "metadata": {
    "colab_type": "text",
    "id": "7krs-4XOQAev"
   },
   "source": [
    "# 1. Full, slice, fill\n",
    "Write a function `warm_up` that returns the 2D tensor with integers below. **Do not use any loops**.\n",
    "\n",
    "```\n",
    "1 2 1 1 1 1 2 1 1 1 1 2 1\n",
    "2 2 2 2 2 2 2 2 2 2 2 2 2\n",
    "1 2 1 1 1 1 2 1 1 1 1 2 1\n",
    "1 2 1 3 3 1 2 1 3 3 1 2 1\n",
    "1 2 1 3 3 1 2 1 3 3 1 2 1\n",
    "1 2 1 1 1 1 2 1 1 1 1 2 1\n",
    "2 2 2 2 2 2 2 2 2 2 2 2 2\n",
    "1 2 1 1 1 1 2 1 1 1 1 2 1\n",
    "1 2 1 3 3 1 2 1 3 3 1 2 1\n",
    "1 2 1 3 3 1 2 1 3 3 1 2 1\n",
    "1 2 1 1 1 1 2 1 1 1 1 2 1\n",
    "2 2 2 2 2 2 2 2 2 2 2 2 2\n",
    "1 2 1 1 1 1 2 1 1 1 1 2 1\n",
    "```\n",
    "\n",
    "\n",
    "Hint: Use `torch.full`, `torch.fill_`, and the slicing operator."
   ]
  },
  {
   "cell_type": "code",
   "execution_count": 4,
   "metadata": {
    "colab": {},
    "colab_type": "code",
    "id": "JsFk9OUoQAew"
   },
   "outputs": [
    {
     "name": "stdout",
     "output_type": "stream",
     "text": [
      "tensor([[1, 2, 1, 1, 1, 1, 1, 1, 1, 1, 1, 2, 1],\n",
      "        [2, 2, 2, 2, 2, 2, 2, 2, 2, 2, 2, 2, 2],\n",
      "        [1, 2, 1, 1, 1, 1, 1, 1, 1, 1, 1, 2, 1],\n",
      "        [1, 2, 1, 3, 3, 1, 1, 1, 1, 3, 3, 2, 1],\n",
      "        [1, 2, 1, 3, 3, 1, 1, 1, 1, 3, 3, 2, 1],\n",
      "        [1, 2, 1, 1, 1, 1, 1, 1, 1, 1, 1, 2, 1],\n",
      "        [2, 2, 2, 2, 2, 2, 2, 2, 2, 2, 2, 2, 2],\n",
      "        [1, 2, 1, 1, 1, 1, 1, 1, 1, 1, 1, 2, 1],\n",
      "        [1, 2, 1, 3, 3, 1, 1, 1, 1, 3, 3, 2, 1],\n",
      "        [1, 2, 1, 3, 3, 1, 1, 1, 1, 3, 3, 2, 1],\n",
      "        [1, 2, 1, 1, 1, 1, 1, 1, 1, 1, 1, 2, 1],\n",
      "        [2, 2, 2, 2, 2, 2, 2, 2, 2, 2, 2, 2, 2],\n",
      "        [1, 2, 1, 1, 1, 1, 1, 1, 1, 1, 1, 2, 1]])\n"
     ]
    }
   ],
   "source": [
    "import torch\n",
    "\n",
    "\n",
    "def warm_up():\n",
    "    # Create a 13x13 tensor filled with ones\n",
    "    tensor = torch.full((13, 13), 1)\n",
    "    # Set the second column to 2\n",
    "    tensor[:, 1] = 2\n",
    "    # Set the last column to 2\n",
    "    tensor[:, -2] = 2\n",
    "    # Set the second row to 2\n",
    "    tensor[1, :] = 2\n",
    "    # Set the 7th row to 2\n",
    "    tensor[6, :] = 2\n",
    "    # Set the 12th row to 2\n",
    "    tensor[11, :] = 2\n",
    "    # Fill specific blocks with 3\n",
    "    tensor[3:5, 3:5] = 3\n",
    "    tensor[3:5, 9:11] = 3\n",
    "    tensor[8:10, 3:5] = 3\n",
    "    tensor[8:10, 9:11] = 3\n",
    "    return tensor\n",
    "\n",
    "\n",
    "# Uncomment line below once you implement this function.\n",
    "print(warm_up())"
   ]
  },
  {
   "cell_type": "markdown",
   "metadata": {
    "colab_type": "text",
    "id": "E8ivZVl5QAez"
   },
   "source": [
    "# 2. To Loop or not to loop\n",
    "\n",
    "The motivation for the following three sub-questions is to get you to think critically about how to write your deep learning code. These sorts of choices can make the difference between tractable and intractable model training."
   ]
  },
  {
   "cell_type": "markdown",
   "metadata": {
    "colab_type": "text",
    "id": "mxGRJK4-QAe0"
   },
   "source": [
    "## 2.1. `mul_row_loop`\n",
    "Write a function `mul_row_loop`, using python loops with simple indexing but no advanced indexing/slicing, that receives a 2D tensor as input and returns a tensor of same size that is \n",
    "- equal to the input on the first row\n",
    "- 2 times the input's second row on the second row\n",
    "- 3 times the input's third row on the third row\n",
    "- etc..\n",
    "\n",
    "For instance:\n",
    "```\n",
    ">>> t = torch.full((4, 8), 2.0)\n",
    ">>> t\n",
    "tensor([[2., 2., 2., 2., 2., 2., 2., 2.],\n",
    "[2., 2., 2., 2., 2., 2., 2., 2.],\n",
    "[2., 2., 2., 2., 2., 2., 2., 2.],\n",
    "[2., 2., 2., 2., 2., 2., 2., 2.]])\n",
    ">>> mul_row(t)\n",
    "tensor([[2., 2., 2., 2., 2., 2., 2., 2.],\n",
    "[4., 4., 4., 4., 4., 4., 4., 4.],\n",
    "[6., 6., 6., 6., 6., 6., 6., 6.],\n",
    "[8., 8., 8., 8., 8., 8., 8., 8.]])\n",
    "```"
   ]
  },
  {
   "cell_type": "code",
   "execution_count": 5,
   "metadata": {
    "colab": {},
    "colab_type": "code",
    "id": "5YIAg1mlQAe0"
   },
   "outputs": [
    {
     "name": "stdout",
     "output_type": "stream",
     "text": [
      "tensor([[2., 2., 2., 2., 2., 2., 2., 2.],\n",
      "        [4., 4., 4., 4., 4., 4., 4., 4.],\n",
      "        [6., 6., 6., 6., 6., 6., 6., 6.],\n",
      "        [8., 8., 8., 8., 8., 8., 8., 8.]])\n"
     ]
    }
   ],
   "source": [
    "def mul_row_loop(input_tensor):\n",
    "    output_tensor = torch.clone(input_tensor)\n",
    "    row, _ = output_tensor.size()\n",
    "    for i in range(row):\n",
    "        output_tensor[i] = input_tensor[i]*(i+1)\n",
    "    return output_tensor\n",
    "\n",
    "\n",
    "t = torch.full((4, 8), 2.0)\n",
    "print(mul_row_loop(t))"
   ]
  },
  {
   "cell_type": "markdown",
   "metadata": {
    "colab_type": "text",
    "id": "ycMZbO2HQAe3"
   },
   "source": [
    "# 2.2. `mul_row_fast`\n",
    "Write a second version of the same function named `mul_row_fast` which uses tensor operations and no looping.\n",
    "\n",
    "**Hint**: Use broadcasting and `torch.arange`, `torch.view`, and `torch.mul`."
   ]
  },
  {
   "cell_type": "code",
   "execution_count": 6,
   "metadata": {
    "colab": {},
    "colab_type": "code",
    "id": "5V3Q-GX8QAe3"
   },
   "outputs": [
    {
     "name": "stdout",
     "output_type": "stream",
     "text": [
      "tensor([[2., 2., 2., 2., 2., 2., 2., 2.],\n",
      "        [4., 4., 4., 4., 4., 4., 4., 4.],\n",
      "        [6., 6., 6., 6., 6., 6., 6., 6.],\n",
      "        [8., 8., 8., 8., 8., 8., 8., 8.]])\n"
     ]
    }
   ],
   "source": [
    "def mul_row_fast(input_tensor):\n",
    "    output_tensor = torch.clone(input_tensor)\n",
    "    row,clm = output_tensor.size()\n",
    "\n",
    "    row_tensor = torch.arange(row)+1\n",
    "    row_tensor = row_tensor.view((-1,1))\n",
    "\n",
    "    # output_tensor = input_tensor * row_tensor\n",
    "    output_tensor = torch.mul(input_tensor,row_tensor)\n",
    "    \n",
    "    return output_tensor\n",
    "\n",
    "t = torch.full((4, 8), 2.0)\n",
    "print(mul_row_fast(t))"
   ]
  },
  {
   "cell_type": "markdown",
   "metadata": {
    "colab_type": "text",
    "id": "6MWuVzVQQAe7"
   },
   "source": [
    "# 2.3. `times`\n",
    "Write a function `times` which takes a 2D tensor as input and returns the run times of `mul_row_loop` and `mul_row_fast` on this tensor, respectively. Use `time.perf_counter`.\n",
    "\n",
    "Use `torch.ones` to create a 2D tensor of size (1000, 400) full of ones and run `times` on it (there should be more than two orders of magnitude difference)."
   ]
  },
  {
   "cell_type": "code",
   "execution_count": 7,
   "metadata": {
    "colab": {},
    "colab_type": "code",
    "id": "vlOKGDMJQAe8"
   },
   "outputs": [
    {
     "name": "stdout",
     "output_type": "stream",
     "text": [
      "0.041722324036527425, 0.001069552032276988\n"
     ]
    }
   ],
   "source": [
    "from time import perf_counter\n",
    "def times(input_tensor):\n",
    "    time_1,time_2 = 0,0\n",
    "    start = perf_counter()\n",
    "    mul_row_loop(input_tensor)\n",
    "    end = perf_counter()\n",
    "    time_1 = end - start\n",
    "    start = perf_counter()\n",
    "    mul_row_fast(input_tensor)\n",
    "    end = perf_counter()\n",
    "    time_2 = end - start\n",
    "\n",
    "    return time_1,time_2\n",
    "\n",
    "# Uncomment lines below once you implement this function. \n",
    "input_tensor = torch.ones(1000,400)\n",
    "time_1, time_2 = times(input_tensor)\n",
    "print('{}, {}'.format(time_1, time_2))"
   ]
  },
  {
   "cell_type": "markdown",
   "metadata": {
    "colab_type": "text",
    "id": "yn_FXad8QAe_"
   },
   "source": [
    "# 3. Non-linearities\n",
    "\n",
    "In this section, we explore similar concepts to Lab 1 and get comfortable initializing modules like nn.Linear and using non-linearities in PyTorch."
   ]
  },
  {
   "cell_type": "markdown",
   "metadata": {
    "colab_type": "text",
    "id": "19a6rMNeQAe_"
   },
   "source": [
    "## 3.1. ReLU\n",
    "ReLU (Rectified Linear Unit) is a non-linear activation fuction defined as:\n",
    "\n",
    "$$y = \\mathrm{max}(0,x)$$\n",
    "\n",
    "Define a fully connected neural network `linear_fc_relu` which:\n",
    "- takes 2 dimensional data as input and passes it through linear modules (`torch.nn.Linear`)\n",
    "- has one hidden layer of dimension 5 \n",
    "- has output dimension of 2\n",
    "- has ReLu as an activation function\n",
    "\n",
    "Create a tensor with input data $X$ of size (100, 2) using `torch.randn`. \n",
    "\n",
    "Following the example in https://github.com/Atcold/pytorch-Deep-Learning-Minicourse/blob/master/02-space_stretching.ipynb, visualize the output of passing `X` through the neural network `linear_fc_relu`.\n",
    "\n",
    "You can find Alfredo's plotting code in plot_lib.py in this directory. Download it along with this assignment and keep it in the same directory."
   ]
  },
  {
   "cell_type": "code",
   "execution_count": 8,
   "metadata": {
    "colab": {},
    "colab_type": "code",
    "id": "XX0oEX98QAfA"
   },
   "outputs": [],
   "source": [
    "# Input data\n",
    "X = torch.randn((100,2))\n",
    "X_num = X.numpy()"
   ]
  },
  {
   "cell_type": "code",
   "execution_count": null,
   "metadata": {},
   "outputs": [],
   "source": []
  },
  {
   "cell_type": "code",
   "execution_count": 48,
   "metadata": {},
   "outputs": [
    {
     "data": {
      "image/png": "[encoded data removed]",
      "text/plain": [
       "<Figure size 1000x1000 with 1 Axes>"
      ]
     },
     "metadata": {},
     "output_type": "display_data"
    },
    {
     "data": {
      "image/png": "[encoded data removed]",
      "text/plain": [
       "<Figure size 1000x1000 with 1 Axes>"
      ]
     },
     "metadata": {},
     "output_type": "display_data"
    }
   ],
   "source": [
    "class LinearFCReLU(nn.Module):\n",
    "    def __init__(self, *args, **kwargs) -> None:\n",
    "        super(LinearFCReLU,self).__init__(*args, **kwargs)\n",
    "        # define my layers\n",
    "        self.linear1 = nn.Linear(2,5)\n",
    "        self.relu = nn.ReLU()\n",
    "        self.hidden1 = nn.Linear(5,2)\n",
    "\n",
    "    def forward(self,x):  # define forward pass\n",
    "        x = self.linear1(x)\n",
    "        x = self.relu(x)\n",
    "        x = self.hidden1(x)\n",
    "        return x\n",
    "\n",
    "# create 1-layer neural networks with ReLU activation\n",
    "linear_fc_relu = LinearFCReLU()\n",
    "output = linear_fc_relu(X)\n",
    "output_num = output.detach().numpy()\n",
    "\n",
    "# Visualize: TODO\n",
    "set_default()\n",
    "def show_scatterplot(X, title=''):\n",
    "\n",
    "    plt.figure()\n",
    "    plt.axis('equal')\n",
    "    plt.scatter(X[:, 0], X[:, 1])\n",
    "    # plt.grid(True)\n",
    "    plt.title(title)\n",
    "    plt.axis('off')\n",
    "show_scatterplot(X_num,title=\"input\")\n",
    "show_scatterplot(output_num,title=\"output\")"
   ]
  },
  {
   "cell_type": "markdown",
   "metadata": {
    "colab_type": "text",
    "id": "RSznMa6rQAfL"
   },
   "source": [
    "## 3.2. Sigmoid\n",
    "The sigmoid function is another popular choice for a non-linear activation function which maps its input to values in the interval $(0,1)$. It is formally defined as:\n",
    "\n",
    "$$\\sigma(x) = \\frac{1}{1+ exp[-x]}$$\n",
    "\n",
    "Define a new neural network `linear_fc_sigmoid` which is the same architecture as in part `3.1.` but with a sigmoid unit instead of ReLU. \n",
    "\n",
    "Using the same $X$ as in part `3.1`, visualize the output of passing `X` through the neural network `linear_fc_sigmoid`."
   ]
  },
  {
   "cell_type": "code",
   "execution_count": 14,
   "metadata": {},
   "outputs": [
    {
     "data": {
      "image/png": "[encoded data removed]",
      "text/plain": [
       "<Figure size 1000x1000 with 1 Axes>"
      ]
     },
     "metadata": {},
     "output_type": "display_data"
    },
    {
     "data": {
      "image/png": "[encoded data removed]",
      "text/plain": [
       "<Figure size 1000x1000 with 1 Axes>"
      ]
     },
     "metadata": {},
     "output_type": "display_data"
    }
   ],
   "source": [
    "class linear_fc_sigmoid(nn.Module):\n",
    "    def __init__(self, *args, **kwargs) -> None:\n",
    "        super(linear_fc_sigmoid, self).__init__(*args, **kwargs)\n",
    "        self.linear1 = nn.Linear(2, 5)\n",
    "        self.sigmoid1 = nn.Sigmoid()\n",
    "        self.linear2 = nn.Linear(5, 2)\n",
    "\n",
    "    def forward(self, x):\n",
    "        x = self.linear1(x)\n",
    "        x = self.sigmoid1(x)\n",
    "        x = self.linear2(x)\n",
    "        return x\n",
    "\n",
    "\n",
    "mymodel = linear_fc_sigmoid()\n",
    "output = mymodel(X)\n",
    "output_num = output.detach().numpy()\n",
    "\n",
    "# Visualize: TODO\n",
    "set_default()\n",
    "\n",
    "\n",
    "def show_scatterplot(X, title=''):\n",
    "\n",
    "    plt.figure()\n",
    "    plt.axis('equal')\n",
    "    plt.scatter(X[:, 0], X[:, 1])\n",
    "    # plt.grid(True)\n",
    "    plt.title(title)\n",
    "    plt.axis('off')\n",
    "\n",
    "\n",
    "show_scatterplot(X_num, title=\"input\")\n",
    "show_scatterplot(output_num, title=\"output\")"
   ]
  }
 ],
 "metadata": {
  "colab": {
   "name": "DS-GA-1008-HW_assignment_1.ipynb",
   "provenance": [],
   "version": "0.3.2"
  },
  "kernelspec": {
   "display_name": "Python 3",
   "language": "python",
   "name": "python3"
  },
  "language_info": {
   "codemirror_mode": {
    "name": "ipython",
    "version": 3
   },
   "file_extension": ".py",
   "mimetype": "text/x-python",
   "name": "python",
   "nbconvert_exporter": "python",
   "pygments_lexer": "ipython3",
   "version": "3.12.4"
  }
 },
 "nbformat": 4,
 "nbformat_minor": 1
}
